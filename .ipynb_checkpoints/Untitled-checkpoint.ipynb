{
 "cells": [
  {
   "cell_type": "code",
   "execution_count": 4,
   "metadata": {},
   "outputs": [],
   "source": [
    "import MDAnalysis\n",
    "from MDAnalysis.analysis import hbonds\n",
    "import matplotlib.pyplot as plt"
   ]
  },
  {
   "cell_type": "code",
   "execution_count": 3,
   "metadata": {},
   "outputs": [
    {
     "data": {
      "text/plain": [
       "<Universe with 9000 atoms>"
      ]
     },
     "execution_count": 3,
     "metadata": {},
     "output_type": "execute_result"
    }
   ],
   "source": [
    "u = MDAnalysis.Universe(\"./conf.pdb\",\"./traj.xtc\")\n",
    "u"
   ]
  },
  {
   "cell_type": "code",
   "execution_count": 8,
   "metadata": {},
   "outputs": [
    {
     "name": "stdout",
     "output_type": "stream",
     "text": [
      "<AtomGroup [<Atom 3: HG1 of type H of resname MEOH, resid 1 and segid X and altLoc >, <Atom 9: HG1 of type H of resname MEOH, resid 2 and segid X and altLoc >, <Atom 15: HG1 of type H of resname MEOH, resid 3 and segid X and altLoc >, ..., <Atom 8976: HG1 of type H of resname MEOH, resid 1397 and segid X and altLoc >, <Atom 8982: HG1 of type H of resname MEOH, resid 1398 and segid X and altLoc >, <Atom 8988: HG1 of type H of resname MEOH, resid 1399 and segid X and altLoc >]>\n"
     ]
    }
   ],
   "source": [
    "H_methanol = u.select_atoms('name HG1')\n",
    "O_methanol = u.select_atoms('name OG')\n",
    "\n",
    "hb_methanol = hbonds.HydrogenBondAutoCorrel(u, acceptors = u.atoms.O_methanol,\n",
    "            hydrogens = u.atoms.H_methanol, donors = u.atoms.O_methanol,bond_type='continuous',\n",
    "            sample_time = 2, nruns = 20, nsamples = 1000)\n",
    "hb_ac.run()\n",
    "hb_ac.solve()\n",
    "tau = hb_ac.solution['tau']\n",
    "time = hb_ac.solution['time']\n",
    "results = hb_ac.solution['results']\n",
    "estimate = hb_ac.solution['estimate']\n",
    "plt.plot(time, results, 'ro')\n",
    "plt.plot(time, estimate)\n",
    "plt.show()"
   ]
  },
  {
   "cell_type": "code",
   "execution_count": null,
   "metadata": {},
   "outputs": [],
   "source": []
  }
 ],
 "metadata": {
  "kernelspec": {
   "display_name": "Python 3",
   "language": "python",
   "name": "python3"
  },
  "language_info": {
   "codemirror_mode": {
    "name": "ipython",
    "version": 3
   },
   "file_extension": ".py",
   "mimetype": "text/x-python",
   "name": "python",
   "nbconvert_exporter": "python",
   "pygments_lexer": "ipython3",
   "version": "3.6.8"
  }
 },
 "nbformat": 4,
 "nbformat_minor": 2
}
